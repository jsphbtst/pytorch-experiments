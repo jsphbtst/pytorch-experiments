{
 "cells": [
  {
   "cell_type": "code",
   "execution_count": 44,
   "metadata": {},
   "outputs": [
    {
     "name": "stdout",
     "output_type": "stream",
     "text": [
      "True\n",
      "True\n",
      "device mps\n"
     ]
    }
   ],
   "source": [
    "import torch\n",
    "import torch.nn as nn\n",
    "import torch.optim as optim\n",
    "\n",
    "print(torch.backends.mps.is_available())  # Should print True\n",
    "print(torch.backends.mps.is_built())      # Should print True\n",
    "\n",
    "device = torch.device('mps')\n",
    "print('device', device)"
   ]
  },
  {
   "cell_type": "code",
   "execution_count": 45,
   "metadata": {},
   "outputs": [],
   "source": [
    "class SimpleRNN(nn.Module):\n",
    "  def __init__(self, input_size, hidden_size, output_size):\n",
    "    super(SimpleRNN, self).__init__()\n",
    "    self.hidden_size = hidden_size\n",
    "    self.rnn = nn.RNN(input_size, hidden_size, batch_first=True)\n",
    "    self.fc = nn.Linear(hidden_size, output_size)\n",
    "\n",
    "  def forward(self, x, hidden=None):\n",
    "    if hidden is None:\n",
    "      hidden = torch.zeros(1, x.size(0), self.hidden_size, device=x.device)\n",
    "    out, hidden = self.rnn(x.unsqueeze(-1), hidden)\n",
    "    out = self.fc(out.squeeze(1))\n",
    "    return out, hidden"
   ]
  },
  {
   "cell_type": "code",
   "execution_count": 46,
   "metadata": {},
   "outputs": [],
   "source": [
    "alphabet = 'abcdefghijklmnopqrstuvwxyzABCDEFGHIJKLMNOPQRSTUVWXYZ'\n",
    "char_to_idx = {char: idx for idx, char in enumerate(alphabet)}\n",
    "idx_to_char = {idx: char for idx, char in enumerate(alphabet)}"
   ]
  },
  {
   "cell_type": "code",
   "execution_count": 47,
   "metadata": {},
   "outputs": [],
   "source": [
    "# Prepare sequences (input: current letter, target: next letter)\n",
    "X = []  # Input sequences\n",
    "y = []  # Target sequences\n",
    "\n",
    "for i in range(len(alphabet) - 1):\n",
    "  X.append(char_to_idx[alphabet[i]])\n",
    "  y.append(char_to_idx[alphabet[i + 1]])\n",
    "\n",
    "# Convert to PyTorch tensors\n",
    "X = torch.tensor(X).view(-1, 1).float().to(device)\n",
    "y = torch.tensor(y).long().to(device)"
   ]
  },
  {
   "cell_type": "code",
   "execution_count": 49,
   "metadata": {},
   "outputs": [
    {
     "name": "stdout",
     "output_type": "stream",
     "text": [
      "Epoch [1000/10000], Loss: 0.7802\n",
      "Epoch [2000/10000], Loss: 0.4055\n",
      "Epoch [3000/10000], Loss: 0.2405\n",
      "Epoch [4000/10000], Loss: 0.1530\n",
      "Epoch [5000/10000], Loss: 0.1013\n",
      "Epoch [6000/10000], Loss: 0.0739\n",
      "Epoch [7000/10000], Loss: 0.0544\n",
      "Epoch [8000/10000], Loss: 0.0430\n",
      "Epoch [9000/10000], Loss: 0.0334\n",
      "Epoch [10000/10000], Loss: 0.0247\n"
     ]
    }
   ],
   "source": [
    "input_size = 1\n",
    "hidden_size = 16\n",
    "output_size = len(alphabet)\n",
    "\n",
    "model = SimpleRNN(input_size, hidden_size, output_size).to(device)\n",
    "criterion = nn.CrossEntropyLoss()\n",
    "optimizer = optim.Adam(model.parameters(), lr=0.01)\n",
    "\n",
    "num_epochs = 10000\n",
    "for epoch in range(num_epochs):\n",
    "  model.zero_grad()\n",
    "\n",
    "  output, hidden = model(X)\n",
    "  loss = criterion(output, y)\n",
    "\n",
    "  loss.backward()\n",
    "  optimizer.step()\n",
    "\n",
    "  if (epoch + 1) % 1000 == 0:\n",
    "    print(f'Epoch [{epoch+1}/{num_epochs}], Loss: {loss.item():.4f}')"
   ]
  },
  {
   "cell_type": "code",
   "execution_count": 50,
   "metadata": {},
   "outputs": [],
   "source": [
    "def predict_next_letter(current_letter):\n",
    "  with torch.no_grad():\n",
    "    input_idx = torch.tensor([[char_to_idx[current_letter]]]).float().to(device)\n",
    "    output, _ = model(input_idx)\n",
    "    predicted_idx = torch.argmax(output).item()\n",
    "    return idx_to_char[predicted_idx]"
   ]
  },
  {
   "cell_type": "code",
   "execution_count": 51,
   "metadata": {},
   "outputs": [
    {
     "name": "stdout",
     "output_type": "stream",
     "text": [
      "\n",
      "Prediction examples:\n",
      "Current letter: a, Predicted next letter: b\n",
      "Current letter: f, Predicted next letter: g\n",
      "Current letter: m, Predicted next letter: n\n",
      "Current letter: r, Predicted next letter: s\n",
      "Current letter: z, Predicted next letter: A\n",
      "Current letter: A, Predicted next letter: B\n",
      "Current letter: J, Predicted next letter: K\n",
      "Current letter: K, Predicted next letter: L\n",
      "Current letter: Z, Predicted next letter: Z\n"
     ]
    }
   ],
   "source": [
    "test_sequence = ['a', 'f', 'm', 'r', 'z', 'A', 'J', 'K', 'Z']\n",
    "print(\"\\nPrediction examples:\")\n",
    "for letter in test_sequence:\n",
    "  next_letter = predict_next_letter(letter)\n",
    "  print(f\"Current letter: {letter}, Predicted next letter: {next_letter}\")"
   ]
  },
  {
   "cell_type": "code",
   "execution_count": 52,
   "metadata": {},
   "outputs": [
    {
     "name": "stdout",
     "output_type": "stream",
     "text": [
      "ab\n",
      "abc\n",
      "abcd\n",
      "abcde\n",
      "abcdef\n",
      "abcdefg\n",
      "abcdefgh\n",
      "abcdefghi\n",
      "abcdefghij\n",
      "abcdefghijk\n",
      "abcdefghijkl\n",
      "abcdefghijklm\n",
      "abcdefghijklmn\n",
      "abcdefghijklmno\n",
      "abcdefghijklmnop\n",
      "abcdefghijklmnopq\n",
      "abcdefghijklmnopqr\n",
      "abcdefghijklmnopqrs\n",
      "abcdefghijklmnopqrst\n",
      "abcdefghijklmnopqrstu\n",
      "abcdefghijklmnopqrstuv\n",
      "abcdefghijklmnopqrstuvw\n",
      "abcdefghijklmnopqrstuvwx\n",
      "abcdefghijklmnopqrstuvwxy\n",
      "abcdefghijklmnopqrstuvwxyz\n",
      "abcdefghijklmnopqrstuvwxyzA\n",
      "abcdefghijklmnopqrstuvwxyzAB\n",
      "abcdefghijklmnopqrstuvwxyzABC\n",
      "abcdefghijklmnopqrstuvwxyzABCD\n",
      "abcdefghijklmnopqrstuvwxyzABCDE\n",
      "abcdefghijklmnopqrstuvwxyzABCDEF\n",
      "abcdefghijklmnopqrstuvwxyzABCDEFG\n",
      "abcdefghijklmnopqrstuvwxyzABCDEFGH\n",
      "abcdefghijklmnopqrstuvwxyzABCDEFGHI\n",
      "abcdefghijklmnopqrstuvwxyzABCDEFGHIJ\n",
      "abcdefghijklmnopqrstuvwxyzABCDEFGHIJK\n",
      "abcdefghijklmnopqrstuvwxyzABCDEFGHIJKL\n",
      "abcdefghijklmnopqrstuvwxyzABCDEFGHIJKLM\n",
      "abcdefghijklmnopqrstuvwxyzABCDEFGHIJKLMN\n",
      "abcdefghijklmnopqrstuvwxyzABCDEFGHIJKLMNO\n",
      "abcdefghijklmnopqrstuvwxyzABCDEFGHIJKLMNOP\n",
      "abcdefghijklmnopqrstuvwxyzABCDEFGHIJKLMNOPQ\n",
      "abcdefghijklmnopqrstuvwxyzABCDEFGHIJKLMNOPQR\n",
      "abcdefghijklmnopqrstuvwxyzABCDEFGHIJKLMNOPQRS\n",
      "abcdefghijklmnopqrstuvwxyzABCDEFGHIJKLMNOPQRST\n",
      "abcdefghijklmnopqrstuvwxyzABCDEFGHIJKLMNOPQRSTU\n",
      "abcdefghijklmnopqrstuvwxyzABCDEFGHIJKLMNOPQRSTUV\n",
      "abcdefghijklmnopqrstuvwxyzABCDEFGHIJKLMNOPQRSTUVW\n",
      "abcdefghijklmnopqrstuvwxyzABCDEFGHIJKLMNOPQRSTUVWX\n",
      "abcdefghijklmnopqrstuvwxyzABCDEFGHIJKLMNOPQRSTUVWXY\n",
      "abcdefghijklmnopqrstuvwxyzABCDEFGHIJKLMNOPQRSTUVWXYZ\n",
      "abcdefghijklmnopqrstuvwxyzABCDEFGHIJKLMNOPQRSTUVWXYZZ\n"
     ]
    }
   ],
   "source": [
    "with torch.no_grad():\n",
    "  current_letter = 'a'\n",
    "  generated_text = '' + current_letter\n",
    "  for _ in range(len(alphabet)):\n",
    "    input_idx = torch.tensor([[char_to_idx[current_letter]]]).float().to(device)\n",
    "    output, _ = model(input_idx)\n",
    "    predicted_idx = torch.argmax(output).item()\n",
    "\n",
    "    current_letter = idx_to_char[predicted_idx]\n",
    "    generated_text = generated_text + current_letter\n",
    "    print(generated_text)"
   ]
  },
  {
   "cell_type": "code",
   "execution_count": null,
   "metadata": {},
   "outputs": [],
   "source": []
  }
 ],
 "metadata": {
  "kernelspec": {
   "display_name": "venv",
   "language": "python",
   "name": "python3"
  },
  "language_info": {
   "codemirror_mode": {
    "name": "ipython",
    "version": 3
   },
   "file_extension": ".py",
   "mimetype": "text/x-python",
   "name": "python",
   "nbconvert_exporter": "python",
   "pygments_lexer": "ipython3",
   "version": "3.13.1"
  }
 },
 "nbformat": 4,
 "nbformat_minor": 2
}
