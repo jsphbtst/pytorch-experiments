{
 "cells": [
  {
   "cell_type": "code",
   "execution_count": 1,
   "metadata": {},
   "outputs": [
    {
     "name": "stdout",
     "output_type": "stream",
     "text": [
      "True\n",
      "True\n",
      "device mps\n"
     ]
    }
   ],
   "source": [
    "import torch\n",
    "import torch.nn as nn\n",
    "import torch.optim as optim\n",
    "\n",
    "print(torch.backends.mps.is_available())  # Should print True\n",
    "print(torch.backends.mps.is_built())      # Should print True\n",
    "\n",
    "device = torch.device('mps')\n",
    "print('device', device)"
   ]
  },
  {
   "cell_type": "code",
   "execution_count": 2,
   "metadata": {},
   "outputs": [],
   "source": [
    "alphabet = 'abcdefghijklmnopqrstuvwxyzABCDEFGHIJKLMNOPQRSTUVWXYZ'\n",
    "char_to_idx = {char: idx for idx, char in enumerate(alphabet)}\n",
    "idx_to_char = {idx: char for idx, char in enumerate(alphabet)}"
   ]
  },
  {
   "cell_type": "code",
   "execution_count": 3,
   "metadata": {},
   "outputs": [],
   "source": [
    "class ScratchRNN(nn.Module):\n",
    "  def __init__(self, input_size, hidden_size, output_size):\n",
    "    super(ScratchRNN, self).__init__()\n",
    "\n",
    "    self.hidden_size = hidden_size\n",
    "    self.inputToHidden = nn.Linear(input_size + hidden_size, hidden_size)\n",
    "    self.inputToOutput = nn.Linear(input_size + hidden_size, output_size)\n",
    "    self.softmax = nn.LogSoftmax(dim=1)\n",
    "\n",
    "  def forward(self, input_tensor, hidden_tensor):\n",
    "    combined = torch.cat((input_tensor, hidden_tensor), 1)\n",
    "\n",
    "    hidden = self.inputToHidden(combined)\n",
    "    output = self.inputToOutput(combined)\n",
    "    output = self.softmax(output)\n",
    "\n",
    "    return output, hidden\n",
    "\n",
    "  def init_hidden(self):\n",
    "    return torch.zeros(1, self.hidden_size).to(device)\n",
    "\n",
    "  def predict(self, char, hidden=None):\n",
    "    self.eval()\n",
    "\n",
    "    if hidden is None:\n",
    "      hidden = self.init_hidden()\n",
    "\n",
    "    try:\n",
    "        idx = char_to_idx[char]\n",
    "    except KeyError:\n",
    "        raise ValueError(f\"Character '{char}' not in training vocabulary\")\n",
    "\n",
    "    input_tensor = torch.tensor([[idx]], dtype=torch.float).to(device)\n",
    "\n",
    "    with torch.no_grad():\n",
    "      output, hidden = self(input_tensor, hidden)\n",
    "\n",
    "    _, predicted_idx = output.max(1)\n",
    "    predicted_char = idx_to_char[predicted_idx.item()]\n",
    "\n",
    "    self.train()\n",
    "    return predicted_char, hidden\n",
    "\n",
    "input_size = 1\n",
    "hidden_size = 16\n",
    "output_size = len(alphabet)\n",
    "\n",
    "model = ScratchRNN(input_size, hidden_size, output_size).to(device)"
   ]
  },
  {
   "cell_type": "code",
   "execution_count": 4,
   "metadata": {},
   "outputs": [],
   "source": [
    "X = []\n",
    "y = []\n",
    "\n",
    "for i in range(len(alphabet) - 1):\n",
    "  X.append(char_to_idx[alphabet[i]])\n",
    "  y.append(char_to_idx[alphabet[i + 1]])\n",
    "\n",
    "X = torch.tensor(X).view(-1, 1).float().to(device)\n",
    "y = torch.tensor(y).long().to(device)"
   ]
  },
  {
   "cell_type": "code",
   "execution_count": 8,
   "metadata": {},
   "outputs": [
    {
     "name": "stdout",
     "output_type": "stream",
     "text": [
      "Epoch [500/5000], Average Loss: 0.0536\n",
      "Epoch [1000/5000], Average Loss: 0.0534\n",
      "Epoch [1500/5000], Average Loss: 0.0534\n",
      "Epoch [2000/5000], Average Loss: 0.0533\n",
      "Epoch [2500/5000], Average Loss: 0.0533\n",
      "Epoch [3000/5000], Average Loss: 0.0532\n",
      "Epoch [3500/5000], Average Loss: 0.0532\n",
      "Epoch [4000/5000], Average Loss: 0.0532\n",
      "Epoch [4500/5000], Average Loss: 0.0532\n",
      "Epoch [5000/5000], Average Loss: 0.0532\n"
     ]
    }
   ],
   "source": [
    "criterion = nn.CrossEntropyLoss()\n",
    "optimizer = optim.AdamW(model.parameters(), lr=0.001)\n",
    "\n",
    "num_epochs = 5_000\n",
    "hidden = torch.zeros(1, hidden_size).to(device)\n",
    "for epoch in range(num_epochs):\n",
    "  model.zero_grad()\n",
    "  total_loss = 0\n",
    "  hidden = model.init_hidden()\n",
    "\n",
    "  for idx, input_char in enumerate(X):\n",
    "    input_tensor = input_char.view(1, 1)\n",
    "    output, hidden = model.forward(input_tensor, hidden.detach())\n",
    "\n",
    "    loss = criterion(output, y[idx].view(1))\n",
    "    total_loss += loss.item()\n",
    "\n",
    "    optimizer.zero_grad()\n",
    "    loss.backward()\n",
    "    optimizer.step()\n",
    "\n",
    "  if (epoch + 1) % (num_epochs  / 10) == 0:\n",
    "    print(f'Epoch [{epoch+1}/{num_epochs}], Average Loss: {loss.item()/len(X):.4f}')"
   ]
  },
  {
   "cell_type": "code",
   "execution_count": 9,
   "metadata": {},
   "outputs": [
    {
     "name": "stdout",
     "output_type": "stream",
     "text": [
      "After 'a' comes 'b'\n",
      "Starting with: a\n",
      "Next: b\n",
      "Next: c\n",
      "Next: d\n",
      "Next: e\n",
      "Next: e\n",
      "Next: g\n",
      "Next: f\n",
      "Next: l\n",
      "Next: e\n",
      "Next: l\n",
      "Next: d\n",
      "Next: l\n",
      "Next: d\n",
      "Next: l\n",
      "Next: d\n",
      "Next: l\n",
      "Next: d\n",
      "Next: l\n",
      "Next: d\n",
      "Next: l\n",
      "Next: d\n",
      "Next: l\n",
      "Next: d\n",
      "Next: l\n",
      "Next: d\n",
      "Next: l\n",
      "Next: d\n",
      "Next: l\n",
      "Next: d\n",
      "Next: l\n",
      "Next: d\n",
      "Next: l\n",
      "Next: d\n",
      "Next: l\n",
      "Next: d\n",
      "Next: l\n"
     ]
    }
   ],
   "source": [
    "next_char, _ = model.predict('a')\n",
    "print(f\"After 'a' comes '{next_char}'\")\n",
    "\n",
    "hidden = None\n",
    "char = 'a'\n",
    "print(f\"Starting with: {char}\")\n",
    "for _ in range(36):\n",
    "  char, hidden = model.predict(char, hidden)\n",
    "  print(f\"Next: {char}\")"
   ]
  },
  {
   "cell_type": "code",
   "execution_count": null,
   "metadata": {},
   "outputs": [],
   "source": []
  }
 ],
 "metadata": {
  "kernelspec": {
   "display_name": "venv",
   "language": "python",
   "name": "python3"
  },
  "language_info": {
   "codemirror_mode": {
    "name": "ipython",
    "version": 3
   },
   "file_extension": ".py",
   "mimetype": "text/x-python",
   "name": "python",
   "nbconvert_exporter": "python",
   "pygments_lexer": "ipython3",
   "version": "3.13.1"
  }
 },
 "nbformat": 4,
 "nbformat_minor": 2
}
