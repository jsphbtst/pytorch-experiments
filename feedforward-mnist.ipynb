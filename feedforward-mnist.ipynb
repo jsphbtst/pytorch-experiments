{
 "cells": [
  {
   "cell_type": "code",
   "execution_count": 1,
   "id": "42b6698e-8d6c-4426-b33c-2aa4547f641f",
   "metadata": {},
   "outputs": [
    {
     "name": "stdout",
     "output_type": "stream",
     "text": [
      "True\n",
      "True\n"
     ]
    }
   ],
   "source": [
    "import torch\n",
    "print(torch.backends.mps.is_available())  # Should print True\n",
    "print(torch.backends.mps.is_built())      # Should print True\n",
    "\n",
    "import torch.nn as nn\n",
    "import torch.nn.functional as F\n",
    "import torch.optim as optim\n",
    "import torchvision\n",
    "import matplotlib.pyplot as plt\n",
    "import numpy as np"
   ]
  },
  {
   "cell_type": "code",
   "execution_count": 3,
   "id": "8436509e-e062-49f7-8fe9-f25163ee0c23",
   "metadata": {},
   "outputs": [
    {
     "name": "stdout",
     "output_type": "stream",
     "text": [
      "mps\n"
     ]
    }
   ],
   "source": [
    "device = torch.device(\"mps\")\n",
    "print(device)"
   ]
  },
  {
   "cell_type": "code",
   "execution_count": 4,
   "id": "d3e96ccc-d9b3-4061-9c50-801102b52ac4",
   "metadata": {},
   "outputs": [],
   "source": [
    "transform = torchvision.transforms.Compose([torchvision.transforms.ToTensor(), torchvision.transforms.Normalize((0.5,), (0.5,))])\n",
    "train_set = torchvision.datasets.MNIST(root='./data', train=True, download=True, transform=transform)\n",
    "test_set = torchvision.datasets.MNIST(root='./data', train=False, download=True, transform=transform)\n",
    "\n",
    "train_loader = torch.utils.data.DataLoader(train_set, batch_size=32, shuffle=True)\n",
    "test_loader = torch.utils.data.DataLoader(test_set, batch_size=32, shuffle=False)"
   ]
  },
  {
   "cell_type": "code",
   "execution_count": 5,
   "id": "dd383a62-117f-45ea-b5d8-1b31f32e1fde",
   "metadata": {},
   "outputs": [
    {
     "name": "stdout",
     "output_type": "stream",
     "text": [
      "Number of images in the training dataset: 60000\n",
      "Number of images in the testing dataset: 10000\n",
      "Shape of the images in the training dataset: torch.Size([1, 28, 28])\n"
     ]
    }
   ],
   "source": [
    "print('Number of images in the training dataset:', len(train_set))\n",
    "print('Number of images in the testing dataset:', len(test_set))\n",
    "print(f\"Shape of the images in the training dataset: {train_loader.dataset[0][0].shape}\")"
   ]
  },
  {
   "cell_type": "code",
   "execution_count": null,
   "id": "ee1da3ef-c6b5-4124-a090-45b18dcfd802",
   "metadata": {},
   "outputs": [
    {
     "data": {
      "image/png": "[encoded data removed]",
      "text/plain": [
       "<Figure size 1200x300 with 10 Axes>"
      ]
     },
     "metadata": {},
     "output_type": "display_data"
    }
   ],
   "source": [
    "fig, axes = plt.subplots(1, 10, figsize=(12, 3))\n",
    "for i in range(10):\n",
    "  axes[i].imshow(train_loader.dataset[i][0].squeeze(), cmap='gray')\n",
    "  axes[i].set_title(train_loader.dataset[i][1])\n",
    "  axes[i].axis('off')\n",
    "plt.show()"
   ]
  },
  {
   "cell_type": "code",
   "execution_count": 7,
   "id": "d6396166-e0d0-483d-9040-f320867bc65b",
   "metadata": {},
   "outputs": [],
   "source": [
    "class NeuralNetwork(nn.Module):\n",
    "  def __init__(self):\n",
    "    super(NeuralNetwork, self).__init__()\n",
    "    self.input = nn.Linear(28*28, 128)\n",
    "    self.hidden_1 = nn.Linear(128, 256)\n",
    "    self.hidden_2 = nn.Linear(256, 256)\n",
    "    self.hidden_3 = nn.Linear(256, 128)\n",
    "    self.hidden_4 = nn.Linear(128, 64)\n",
    "    self.output = nn.Linear(64, 10)\n",
    "\n",
    "  def forward(self, x):\n",
    "    x = x.view(-1, 28*28)\n",
    "    x = F.gelu(self.input(x))\n",
    "    x = F.gelu(self.hidden_1(x))\n",
    "    x = F.gelu(self.hidden_2(x))\n",
    "    x = F.gelu(self.hidden_3(x))\n",
    "    x = F.gelu(self.hidden_4(x))\n",
    "    x = F.log_softmax(self.output(x), dim=1)\n",
    "    return x\n",
    "\n",
    "model = NeuralNetwork().to(device)"
   ]
  },
  {
   "cell_type": "code",
   "execution_count": 8,
   "id": "74aecd58-a786-4bdd-86cd-db3137713ff3",
   "metadata": {},
   "outputs": [
    {
     "name": "stdout",
     "output_type": "stream",
     "text": [
      "Epoch [1/10], Loss: 0.3256\n",
      "Epoch [2/10], Loss: 0.0109\n",
      "Epoch [3/10], Loss: 0.0149\n",
      "Epoch [4/10], Loss: 0.0279\n",
      "Epoch [5/10], Loss: 0.0243\n",
      "Epoch [6/10], Loss: 0.2538\n",
      "Epoch [7/10], Loss: 0.2308\n",
      "Epoch [8/10], Loss: 0.0009\n",
      "Epoch [9/10], Loss: 0.1717\n",
      "Epoch [10/10], Loss: 0.0242\n"
     ]
    }
   ],
   "source": [
    "loss_function = nn.NLLLoss()\n",
    "optimizer = optim.Adam(model.parameters(), lr=0.001)\n",
    "\n",
    "epochs = 10\n",
    "for epoch in range(epochs):\n",
    "  for images, labels in train_loader:\n",
    "    optimizer.zero_grad()\n",
    "\n",
    "    output = model(images.to(device))\n",
    "    loss = loss_function(output, labels.to(device))\n",
    "\n",
    "    loss.backward()\n",
    "    optimizer.step()\n",
    "\n",
    "  print(f'Epoch [{epoch+1}/{epochs}], Loss: {loss.item():.4f}')"
   ]
  },
  {
   "cell_type": "code",
   "execution_count": 9,
   "id": "50fe19c6-11f7-4ac9-8446-f1792aa49918",
   "metadata": {},
   "outputs": [],
   "source": [
    "def view_classify(image, probabilities):\n",
    "    probabilities = probabilities.data.numpy().squeeze()\n",
    "\n",
    "    fig, (ax1, ax2) = plt.subplots(figsize=(6,9), ncols=2)\n",
    "    ax1.imshow(image.numpy().squeeze())\n",
    "    ax1.axis('off')\n",
    "    ax2.barh(np.arange(10), probabilities)\n",
    "    ax2.set_aspect(0.1)\n",
    "    ax2.set_yticks(np.arange(10))\n",
    "    ax2.set_yticklabels(np.arange(10))\n",
    "    ax2.set_title('Class Probability')\n",
    "    ax2.set_xlim(0, 1.1)\n",
    "    plt.tight_layout()"
   ]
  },
  {
   "cell_type": "code",
   "execution_count": 10,
   "id": "cc9c914a-0660-47f0-98ad-0042a24a8296",
   "metadata": {},
   "outputs": [
    {
     "data": {
      "image/png": "[encoded data removed]",
      "text/plain": [
       "<Figure size 600x900 with 2 Axes>"
      ]
     },
     "metadata": {},
     "output_type": "display_data"
    }
   ],
   "source": [
    "images, _ = next(iter(test_loader))\n",
    "\n",
    "image = images[0].to(device)\n",
    "with torch.no_grad():\n",
    "    log_probabilities = model(image)\n",
    "\n",
    "probabilities = torch.exp(log_probabilities)\n",
    "\n",
    "# When displaying/plotting, move back to CPU\n",
    "view_classify(image.cpu().view(1, 28, 28), probabilities.cpu())"
   ]
  },
  {
   "cell_type": "code",
   "execution_count": 11,
   "id": "6738caa4-f684-4cc5-b6d8-08e3380f483c",
   "metadata": {},
   "outputs": [
    {
     "name": "stdout",
     "output_type": "stream",
     "text": [
      "Accuracy of the neural network on the 10000 test images: 97.43%\n"
     ]
    }
   ],
   "source": [
    "correct = 0\n",
    "total = 0\n",
    "with torch.no_grad():\n",
    "    for images, labels in test_loader:\n",
    "        images = images.to(device)\n",
    "        labels = labels.to(device)\n",
    "        output = model(images)\n",
    "        _, predicted = torch.max(output, 1)\n",
    "        total += labels.size(0)\n",
    "        correct += (predicted == labels).sum().item()\n",
    "\n",
    "print(f'Accuracy of the neural network on the {total} test images: {100 * correct / total}%')"
   ]
  },
  {
   "cell_type": "code",
   "execution_count": null,
   "id": "cc01c761-577f-4c67-828d-d71689f5c848",
   "metadata": {},
   "outputs": [],
   "source": []
  }
 ],
 "metadata": {
  "kernelspec": {
   "display_name": "venv",
   "language": "python",
   "name": "python3"
  },
  "language_info": {
   "codemirror_mode": {
    "name": "ipython",
    "version": 3
   },
   "file_extension": ".py",
   "mimetype": "text/x-python",
   "name": "python",
   "nbconvert_exporter": "python",
   "pygments_lexer": "ipython3",
   "version": "3.13.1"
  }
 },
 "nbformat": 4,
 "nbformat_minor": 5
}
