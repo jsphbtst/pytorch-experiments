{
 "cells": [
  {
   "cell_type": "code",
   "execution_count": 1,
   "metadata": {},
   "outputs": [
    {
     "name": "stdout",
     "output_type": "stream",
     "text": [
      "True\n",
      "True\n",
      "mps\n"
     ]
    }
   ],
   "source": [
    "import torch\n",
    "\n",
    "print(torch.backends.mps.is_available())  # Should print True\n",
    "print(torch.backends.mps.is_built())      # Should print True\n",
    "\n",
    "import torch.nn as nn\n",
    "from torch.nn import functional as F\n",
    "\n",
    "import requests\n",
    "\n",
    "device = torch.device(\"mps\")\n",
    "print(device)"
   ]
  },
  {
   "cell_type": "code",
   "execution_count": null,
   "metadata": {},
   "outputs": [
    {
     "data": {
      "text/plain": [
       "<torch._C.Generator at 0x1085b7d50>"
      ]
     },
     "execution_count": 2,
     "metadata": {},
     "output_type": "execute_result"
    }
   ],
   "source": [
    "# hyperparameters\n",
    "batch_size = 16 # how many independent sequences will we process in parallel?\n",
    "block_size = 32 # what is the maximum context length for predictions?\n",
    "max_iters = 10000\n",
    "eval_interval = 500\n",
    "learning_rate = 1e-3\n",
    "eval_iters = 200\n",
    "n_embd = 64\n",
    "n_head = 4\n",
    "n_layer = 4\n",
    "dropout = 0.0\n",
    "# ------------\n",
    "\n",
    "torch.manual_seed(1337)"
   ]
  },
  {
   "cell_type": "code",
   "execution_count": null,
   "metadata": {},
   "outputs": [],
   "source": [
    "r = requests.get(\"https://s3.amazonaws.com/text-datasets/nietzsche.txt\")\n",
    "text = r.text\n",
    "\n",
    "# here are all the unique characters that occur in this text\n",
    "chars = sorted(list(set(text)))\n",
    "vocab_size = len(chars)\n",
    "# create a mapping from characters to integers\n",
    "stoi = { ch:i for i,ch in enumerate(chars) }\n",
    "itos = { i:ch for i,ch in enumerate(chars) }\n",
    "encode = lambda s: [stoi[c] for c in s] # encoder: take a string, output a list of integers\n",
    "decode = lambda l: ''.join([itos[i] for i in l]) # decoder: take a list of integers, output a string\n",
    "\n",
    "# Train and test splits\n",
    "data = torch.tensor(encode(text), dtype=torch.long)\n",
    "n = int(0.9*len(data)) # first 90% will be train, rest val\n",
    "train_data = data[:n]\n",
    "val_data = data[n:]\n",
    "\n",
    "# data loading\n",
    "def get_batch(split):\n",
    "  # generate a small batch of data of inputs x and targets y\n",
    "  data = train_data if split == 'train' else val_data\n",
    "  ix = torch.randint(len(data) - block_size, (batch_size,))\n",
    "  x = torch.stack([data[i:i+block_size] for i in ix])\n",
    "  y = torch.stack([data[i+1:i+block_size+1] for i in ix])\n",
    "  x, y = x.to(device), y.to(device)\n",
    "  return x, y"
   ]
  },
  {
   "cell_type": "code",
   "execution_count": null,
   "metadata": {},
   "outputs": [],
   "source": [
    "class Head(nn.Module):\n",
    "  \"\"\" one head of self-attention \"\"\"\n",
    "\n",
    "  def __init__(self, head_size):\n",
    "    super().__init__()\n",
    "    self.key = nn.Linear(n_embd, head_size, bias=False)\n",
    "    self.query = nn.Linear(n_embd, head_size, bias=False)\n",
    "    self.value = nn.Linear(n_embd, head_size, bias=False)\n",
    "    self.register_buffer('tril', torch.tril(torch.ones(block_size, block_size)))\n",
    "\n",
    "    self.dropout = nn.Dropout(dropout)\n",
    "\n",
    "  def forward(self, x):\n",
    "    B,T,C = x.shape\n",
    "    k = self.key(x)   # (B,T,C)\n",
    "    q = self.query(x) # (B,T,C)\n",
    "    # compute attention scores (\"affinities\")\n",
    "    wei = q @ k.transpose(-2,-1) * C**-0.5 # (B, T, C) @ (B, C, T) -> (B, T, T)\n",
    "    wei = wei.masked_fill(self.tril[:T, :T] == 0, float('-inf')) # (B, T, T)\n",
    "    wei = F.softmax(wei, dim=-1) # (B, T, T)\n",
    "    wei = self.dropout(wei)\n",
    "    # perform the weighted aggregation of the values\n",
    "    v = self.value(x) # (B,T,C)\n",
    "    out = wei @ v # (B, T, T) @ (B, T, C) -> (B, T, C)\n",
    "    return out\n",
    "\n",
    "class MultiHeadAttention(nn.Module):\n",
    "  \"\"\" multiple heads of self-attention in parallel \"\"\"\n",
    "\n",
    "  def __init__(self, num_heads, head_size):\n",
    "    super().__init__()\n",
    "    self.heads = nn.ModuleList([Head(head_size) for _ in range(num_heads)])\n",
    "    self.proj = nn.Linear(n_embd, n_embd)\n",
    "    self.dropout = nn.Dropout(dropout)\n",
    "\n",
    "  def forward(self, x):\n",
    "    out = torch.cat([h(x) for h in self.heads], dim=-1)\n",
    "    out = self.dropout(self.proj(out))\n",
    "    return out\n",
    "\n",
    "class FeedFoward(nn.Module):\n",
    "  \"\"\" a simple linear layer followed by a non-linearity \"\"\"\n",
    "\n",
    "  def __init__(self, n_embd):\n",
    "    super().__init__()\n",
    "    self.net = nn.Sequential(\n",
    "      nn.Linear(n_embd, 4 * n_embd),\n",
    "      nn.ReLU(),\n",
    "      nn.Linear(4 * n_embd, n_embd),\n",
    "      nn.Dropout(dropout),\n",
    "    )\n",
    "\n",
    "  def forward(self, x):\n",
    "    return self.net(x)\n",
    "\n",
    "class Block(nn.Module):\n",
    "  \"\"\" Transformer block: communication followed by computation \"\"\"\n",
    "\n",
    "  def __init__(self, n_embd, n_head):\n",
    "    # n_embd: embedding dimension, n_head: the number of heads we'd like\n",
    "    super().__init__()\n",
    "    head_size = n_embd // n_head\n",
    "    self.sa = MultiHeadAttention(n_head, head_size)\n",
    "    self.ffwd = FeedFoward(n_embd)\n",
    "    self.ln1 = nn.LayerNorm(n_embd)\n",
    "    self.ln2 = nn.LayerNorm(n_embd)\n",
    "\n",
    "  def forward(self, x):\n",
    "    x = x + self.sa(self.ln1(x))\n",
    "    x = x + self.ffwd(self.ln2(x))\n",
    "    return x\n",
    "\n",
    "# super simple bigram model\n",
    "class BigramLanguageModel(nn.Module):\n",
    "  def __init__(self):\n",
    "    super().__init__()\n",
    "    # each token directly reads off the logits for the next token from a lookup table\n",
    "    self.token_embedding_table = nn.Embedding(vocab_size, n_embd)\n",
    "    self.position_embedding_table = nn.Embedding(block_size, n_embd)\n",
    "    self.blocks = nn.Sequential(*[Block(n_embd, n_head=n_head) for _ in range(n_layer)])\n",
    "    self.ln_f = nn.LayerNorm(n_embd) # final layer norm\n",
    "    self.lm_head = nn.Linear(n_embd, vocab_size)\n",
    "\n",
    "  def forward(self, idx, targets=None):\n",
    "    B, T = idx.shape\n",
    "\n",
    "    # idx and targets are both (B,T) tensor of integers\n",
    "    tok_emb = self.token_embedding_table(idx) # (B,T,C)\n",
    "    pos_emb = self.position_embedding_table(torch.arange(T, device=device)) # (T,C)\n",
    "    x = tok_emb + pos_emb # (B,T,C)\n",
    "    x = self.blocks(x) # (B,T,C)\n",
    "    x = self.ln_f(x) # (B,T,C)\n",
    "    logits = self.lm_head(x) # (B,T,vocab_size)\n",
    "\n",
    "    if targets is None:\n",
    "      loss = None\n",
    "    else:\n",
    "      B, T, C = logits.shape\n",
    "      logits = logits.view(B*T, C)\n",
    "      targets = targets.view(B*T)\n",
    "      loss = F.cross_entropy(logits, targets)\n",
    "\n",
    "    return logits, loss\n",
    "\n",
    "  def generate(self, idx, max_new_tokens):\n",
    "    # idx is (B, T) array of indices in the current context\n",
    "    for _ in range(max_new_tokens):\n",
    "      # crop idx to the last block_size tokens\n",
    "      idx_cond = idx[:, -block_size:]\n",
    "      # get the predictions\n",
    "      logits, loss = self(idx_cond)\n",
    "      # focus only on the last time step\n",
    "      logits = logits[:, -1, :] # becomes (B, C)\n",
    "      # apply softmax to get probabilities\n",
    "      probs = F.softmax(logits, dim=-1) # (B, C)\n",
    "      # sample from the distribution\n",
    "      idx_next = torch.multinomial(probs, num_samples=1) # (B, 1)\n",
    "      # print the generated character\n",
    "      print(decode([idx_next[0].item()]), end='', flush=True)\n",
    "      # append sampled index to the running sequence\n",
    "      idx = torch.cat((idx, idx_next), dim=1) # (B, T+1)\n",
    "    print() # new line at the end\n",
    "\n",
    "model = BigramLanguageModel()\n",
    "m = model.to(device)"
   ]
  },
  {
   "cell_type": "code",
   "execution_count": null,
   "metadata": {},
   "outputs": [],
   "source": [
    "@torch.no_grad()\n",
    "def estimate_loss():\n",
    "  out = {}\n",
    "  model.eval()\n",
    "  for split in ['train', 'val']:\n",
    "    losses = torch.zeros(eval_iters)\n",
    "    for k in range(eval_iters):\n",
    "      X, Y = get_batch(split)\n",
    "      logits, loss = model(X, Y)\n",
    "      losses[k] = loss.item()\n",
    "    out[split] = losses.mean()\n",
    "  model.train()\n",
    "  return out\n",
    "\n"
   ]
  },
  {
   "cell_type": "code",
   "execution_count": null,
   "metadata": {},
   "outputs": [
    {
     "name": "stdout",
     "output_type": "stream",
     "text": [
      "0.212309 M parameters\n",
      "step 0: train loss 4.5776, val loss 4.5745\n",
      "step 250: train loss 2.3217, val loss 2.2689\n",
      "step 500: train loss 2.1808, val loss 2.1474\n",
      "step 750: train loss 2.0578, val loss 2.0426\n",
      "step 1000: train loss 1.9651, val loss 1.9229\n",
      "step 1250: train loss 1.9188, val loss 1.8817\n",
      "step 1500: train loss 1.8568, val loss 1.8258\n",
      "step 1750: train loss 1.8431, val loss 1.8140\n",
      "step 2000: train loss 1.8081, val loss 1.7794\n",
      "step 2250: train loss 1.7715, val loss 1.7558\n",
      "step 2500: train loss 1.7515, val loss 1.7496\n",
      "step 2750: train loss 1.7466, val loss 1.7380\n",
      "step 3000: train loss 1.7266, val loss 1.7248\n",
      "step 3250: train loss 1.7282, val loss 1.7225\n",
      "step 3500: train loss 1.7018, val loss 1.7148\n",
      "step 3750: train loss 1.6957, val loss 1.7014\n",
      "step 4000: train loss 1.6882, val loss 1.6953\n",
      "step 4250: train loss 1.6937, val loss 1.6852\n",
      "step 4500: train loss 1.6785, val loss 1.6762\n",
      "step 4750: train loss 1.6553, val loss 1.6589\n",
      "step 4999: train loss 1.6577, val loss 1.6626\n"
     ]
    }
   ],
   "source": [
    "print(sum(p.numel() for p in m.parameters())/1e6, 'M parameters')\n",
    "\n",
    "optimizer = torch.optim.AdamW(model.parameters(), lr=learning_rate)\n",
    "\n",
    "for iter in range(max_iters):\n",
    "  if iter % eval_interval == 0 or iter == max_iters - 1:\n",
    "    losses = estimate_loss()\n",
    "    print(f\"step {iter}: train loss {losses['train']:.4f}, val loss {losses['val']:.4f}\")\n",
    "\n",
    "  # sample a batch of data\n",
    "  xb, yb = get_batch('train')\n",
    "\n",
    "  # evaluate the loss\n",
    "  logits, loss = model(xb, yb)\n",
    "  optimizer.zero_grad(set_to_none=True)\n",
    "  loss.backward()\n",
    "  optimizer.step()"
   ]
  },
  {
   "cell_type": "code",
   "execution_count": 8,
   "metadata": {},
   "outputs": [
    {
     "name": "stdout",
     "output_type": "stream",
     "text": [
      "fact, the of their in philosophers anty; but which is for the morally wane wether     \n",
      "218. But thout can his expleasing\n",
      "even this dick anifestial, confes one ones futualists notwing, roes we will into even this man is did nown who hye\n",
      "flowe o_ is inflicting gai\n",
      "right, sharting is will same becist a stime _injustians,\" its it\"\n",
      "experts to the conceptions time which say\n",
      "it is everiations sti-deving not to necessible\n",
      "and the reniencess; originately shalmost cimission of and set\n",
      "stang cultiment all nation wings Perials. Traning, our compts the\n",
      "is knewse that, what over than day senterly out\n",
      "for that impation, world expedions as an sweize is pleave,\n",
      "                                           ah the whiCh synthe are the has inegohoring of their liber breat the\n",
      "Which excommens\n",
      "aftely the most that delight of his curical the free traid truestanity ind had entherted or approre animal feeling of the may of averimy there the diselves of profounction annoes. The\n",
      "men inquition oriorst which of volute umbody\n",
      "in our lown\n",
      "infical prometite in anxaccultion \"undanger the and\" in the hability, of the diffice of europe merely of\n",
      "him, ts--he Greeith is sevelogIstion of do an the say repensity in himself\n",
      "imagotten, to or being. Mething\n",
      "fusting wome test undividuality, sufferients in centural with time the similarisaly toon cometially afture, eugated to soul, in the find the higheulation the\n",
      "will to him Accould con body in \"reed that, and deach\"),\"\n",
      "and down--even that aftra, man.\n",
      "The Stange to neig\n"
     ]
    }
   ],
   "source": [
    "context = torch.zeros((1, 1), dtype=torch.long, device=device)\n",
    "model.generate(context, max_new_tokens=1500)"
   ]
  },
  {
   "cell_type": "code",
   "execution_count": null,
   "metadata": {},
   "outputs": [
    {
     "name": "stdout",
     "output_type": "stream",
     "text": [
      "Ey81oz(-,qcw 9NW«Jy-S2¦KPofyK©z1H© ÃkO,UMJG©G[Zoxe5wvjJ'E8OW;uh!:-4Id1Jd]Cmw0C6Lfd]dB[QB!rZDK=IHZNQl\n"
     ]
    }
   ],
   "source": []
  },
  {
   "cell_type": "code",
   "execution_count": 1,
   "metadata": {},
   "outputs": [
    {
     "ename": "NameError",
     "evalue": "name 'torch' is not defined",
     "output_type": "error",
     "traceback": [
      "\u001b[0;31m---------------------------------------------------------------------------\u001b[0m",
      "\u001b[0;31mNameError\u001b[0m                                 Traceback (most recent call last)",
      "Cell \u001b[0;32mIn[1], line 1\u001b[0m\n\u001b[0;32m----> 1\u001b[0m \u001b[43mtorch\u001b[49m\u001b[38;5;241m.\u001b[39msave(model\u001b[38;5;241m.\u001b[39mstate_dict(), \u001b[38;5;124m'\u001b[39m\u001b[38;5;124mnietzsche_jgpt_weights.pth\u001b[39m\u001b[38;5;124m'\u001b[39m)\n\u001b[1;32m      3\u001b[0m saved_model \u001b[38;5;241m=\u001b[39m BigramLanguageModel()\u001b[38;5;241m.\u001b[39mto(device)\n\u001b[1;32m      4\u001b[0m saved_model\u001b[38;5;241m.\u001b[39mload_state_dict(torch\u001b[38;5;241m.\u001b[39mload(\u001b[38;5;124m'\u001b[39m\u001b[38;5;124mnietzsche_jgpt_weights.pth\u001b[39m\u001b[38;5;124m'\u001b[39m))\n",
      "\u001b[0;31mNameError\u001b[0m: name 'torch' is not defined"
     ]
    }
   ],
   "source": [
    "torch.save(model.state_dict(), 'nietzsche_jgpt_weights.pth')\n",
    "\n",
    "saved_model = BigramLanguageModel().to(device)\n",
    "saved_model.load_state_dict(torch.load('nietzsche_jgpt_weights.pth'))\n",
    "saved_model.eval()"
   ]
  },
  {
   "cell_type": "code",
   "execution_count": null,
   "metadata": {},
   "outputs": [],
   "source": []
  },
  {
   "cell_type": "code",
   "execution_count": null,
   "metadata": {},
   "outputs": [],
   "source": []
  },
  {
   "cell_type": "code",
   "execution_count": null,
   "metadata": {},
   "outputs": [],
   "source": []
  },
  {
   "cell_type": "code",
   "execution_count": null,
   "metadata": {},
   "outputs": [],
   "source": []
  },
  {
   "cell_type": "code",
   "execution_count": null,
   "metadata": {},
   "outputs": [],
   "source": []
  },
  {
   "cell_type": "code",
   "execution_count": null,
   "metadata": {},
   "outputs": [],
   "source": [
    "\n",
    "\n",
    "# test_context = torch.zeros((1, 1), dtype=torch.long, device=device)\n",
    "\n",
    "# print(\n",
    "#   decode(\n",
    "#     saved_model.generate(test_context, max_new_tokens=2000)[0].tolist()\n",
    "#   )\n",
    "# )"
   ]
  }
 ],
 "metadata": {
  "kernelspec": {
   "display_name": "venv",
   "language": "python",
   "name": "python3"
  },
  "language_info": {
   "codemirror_mode": {
    "name": "ipython",
    "version": 3
   },
   "file_extension": ".py",
   "mimetype": "text/x-python",
   "name": "python",
   "nbconvert_exporter": "python",
   "pygments_lexer": "ipython3",
   "version": "3.13.1"
  }
 },
 "nbformat": 4,
 "nbformat_minor": 2
}
