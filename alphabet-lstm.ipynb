{
 "cells": [
  {
   "cell_type": "code",
   "execution_count": 8,
   "metadata": {},
   "outputs": [
    {
     "name": "stdout",
     "output_type": "stream",
     "text": [
      "True\n",
      "True\n",
      "device mps\n"
     ]
    }
   ],
   "source": [
    "import torch\n",
    "import torch.nn as nn\n",
    "import torch.optim as optim\n",
    "\n",
    "print(torch.backends.mps.is_available())  # Should print True\n",
    "print(torch.backends.mps.is_built())      # Should print True\n",
    "\n",
    "device = torch.device('mps')\n",
    "print('device', device)"
   ]
  },
  {
   "cell_type": "code",
   "execution_count": 23,
   "metadata": {},
   "outputs": [],
   "source": [
    "alphabet = 'abcdefghijklmnopqrstuvwxyzABCDEFGHIJKLMNOPQRSTUVWXYZa'\n",
    "char_to_idx = {char: idx for idx, char in enumerate(alphabet)}\n",
    "idx_to_char = {idx: char for idx, char in enumerate(alphabet)}\n",
    "\n",
    "X = []\n",
    "y = []\n",
    "\n",
    "for i in range(len(alphabet) - 1):\n",
    "  X.append(char_to_idx[alphabet[i]])\n",
    "  y.append(char_to_idx[alphabet[i + 1]])\n",
    "\n",
    "X = torch.tensor(X).view(-1, 1).float().to(device)\n",
    "y = torch.tensor(y).long().to(device)"
   ]
  },
  {
   "cell_type": "code",
   "execution_count": 24,
   "metadata": {},
   "outputs": [],
   "source": [
    "class LSTMPredictor(nn.Module):\n",
    "  def __init__(self, input_size, hidden_size, output_size, num_layers=1):\n",
    "    super(LSTMPredictor, self).__init__()\n",
    "    self.hidden_size = hidden_size\n",
    "    self.num_layers = num_layers\n",
    "\n",
    "    self.lstm = nn.LSTM(\n",
    "      input_size=input_size,\n",
    "      hidden_size=hidden_size,\n",
    "      num_layers=num_layers,\n",
    "      batch_first=True\n",
    "    )\n",
    "\n",
    "    self.dropout = nn.Dropout(0.2)\n",
    "    self.fc = nn.Linear(hidden_size, output_size)\n",
    "\n",
    "  def forward(self, x, hidden=None):\n",
    "    batch_size = x.size(0)\n",
    "\n",
    "    if hidden is None:\n",
    "      h0 = torch.zeros(self.num_layers, batch_size, self.hidden_size).to(x.device)\n",
    "      c0 = torch.zeros(self.num_layers, batch_size, self.hidden_size).to(x.device)\n",
    "      hidden = (h0, c0)\n",
    "\n",
    "    out, hidden = self.lstm(x.unsqueeze(-1), hidden)\n",
    "    out = self.dropout(out)\n",
    "    out = self.fc(out.squeeze(1))\n",
    "    return out, hidden"
   ]
  },
  {
   "cell_type": "code",
   "execution_count": 25,
   "metadata": {},
   "outputs": [
    {
     "name": "stdout",
     "output_type": "stream",
     "text": [
      "Epoch [1000/10000], Loss: 0.9290\n",
      "Epoch [2000/10000], Loss: 0.8235\n",
      "Epoch [3000/10000], Loss: 0.6589\n",
      "Epoch [4000/10000], Loss: 0.5425\n",
      "Epoch [5000/10000], Loss: 0.4211\n",
      "Epoch [6000/10000], Loss: 0.6419\n",
      "Epoch [7000/10000], Loss: 0.3120\n",
      "Epoch [8000/10000], Loss: 0.3001\n",
      "Epoch [9000/10000], Loss: 0.4460\n",
      "Epoch [10000/10000], Loss: 0.4999\n"
     ]
    }
   ],
   "source": [
    "input_size = 1\n",
    "hidden_size = 32\n",
    "output_size = len(alphabet)\n",
    "model = LSTMPredictor(input_size, hidden_size, output_size, num_layers=2).to(device)\n",
    "criterion = nn.CrossEntropyLoss()\n",
    "optimizer = optim.Adam(model.parameters(), lr=0.01)\n",
    "\n",
    "# Training loop\n",
    "num_epochs = 10000\n",
    "for epoch in range(num_epochs):\n",
    "  model.zero_grad()\n",
    "  output, hidden = model(X)\n",
    "  loss = criterion(output, y)\n",
    "  loss.backward()\n",
    "  optimizer.step()\n",
    "\n",
    "  if (epoch + 1) % 1000 == 0:\n",
    "    print(f'Epoch [{epoch+1}/{num_epochs}], Loss: {loss.item():.4f}')"
   ]
  },
  {
   "cell_type": "code",
   "execution_count": 26,
   "metadata": {},
   "outputs": [],
   "source": [
    "def predict_next_letter(current_letter, model):\n",
    "  model.eval()\n",
    "  with torch.no_grad():\n",
    "    input_idx = torch.tensor([[char_to_idx[current_letter]]]).float().to(device)\n",
    "    output, _ = model(input_idx)\n",
    "    predicted_idx = torch.argmax(output).item()\n",
    "    return idx_to_char[predicted_idx]\n",
    "  model.train()"
   ]
  },
  {
   "cell_type": "code",
   "execution_count": 27,
   "metadata": {},
   "outputs": [
    {
     "name": "stdout",
     "output_type": "stream",
     "text": [
      "\n",
      "Prediction examples:\n",
      "Current letter: a, Predicted next letter: b\n",
      "Current letter: f, Predicted next letter: g\n",
      "Current letter: m, Predicted next letter: n\n",
      "Current letter: r, Predicted next letter: s\n",
      "Current letter: z, Predicted next letter: A\n",
      "Current letter: A, Predicted next letter: B\n",
      "Current letter: J, Predicted next letter: K\n",
      "Current letter: K, Predicted next letter: L\n",
      "Current letter: Z, Predicted next letter: a\n"
     ]
    }
   ],
   "source": [
    "test_sequence = ['a', 'f', 'm', 'r', 'z', 'A', 'J', 'K', 'Z']\n",
    "print(\"\\nPrediction examples:\")\n",
    "for letter in test_sequence:\n",
    "  next_letter = predict_next_letter(letter, model)\n",
    "  print(f\"Current letter: {letter}, Predicted next letter: {next_letter}\")"
   ]
  },
  {
   "cell_type": "code",
   "execution_count": 30,
   "metadata": {},
   "outputs": [
    {
     "name": "stdout",
     "output_type": "stream",
     "text": [
      "\n",
      "Testing complete alphabet sequence:\n",
      "Predicted sequence: abcdefghijklmnopqrstuvwxyzABCDEFGHIJKLMNOPQRSTUVWXYZabcde\n"
     ]
    }
   ],
   "source": [
    "# Test the model's understanding of alphabetical order\n",
    "print(\"\\nTesting complete alphabet sequence:\")\n",
    "current_letter = 'a'\n",
    "predicted_sequence = [current_letter]\n",
    "\n",
    "for _ in range(56):  # Predict the next 25 letters\n",
    "  next_letter = predict_next_letter(current_letter, model)\n",
    "  predicted_sequence.append(next_letter)\n",
    "  current_letter = next_letter\n",
    "\n",
    "print(\"Predicted sequence:\", ''.join(predicted_sequence))"
   ]
  },
  {
   "cell_type": "code",
   "execution_count": null,
   "metadata": {},
   "outputs": [],
   "source": []
  }
 ],
 "metadata": {
  "kernelspec": {
   "display_name": "venv",
   "language": "python",
   "name": "python3"
  },
  "language_info": {
   "codemirror_mode": {
    "name": "ipython",
    "version": 3
   },
   "file_extension": ".py",
   "mimetype": "text/x-python",
   "name": "python",
   "nbconvert_exporter": "python",
   "pygments_lexer": "ipython3",
   "version": "3.13.1"
  }
 },
 "nbformat": 4,
 "nbformat_minor": 2
}
